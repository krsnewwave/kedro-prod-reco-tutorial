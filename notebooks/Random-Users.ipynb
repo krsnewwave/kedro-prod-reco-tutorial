{
 "cells": [
  {
   "cell_type": "code",
   "execution_count": 1,
   "id": "b18ed19b",
   "metadata": {},
   "outputs": [],
   "source": [
    "import pandas as pd\n",
    "import os\n",
    "import sys\n",
    "import numpy as np\n",
    "import scipy\n",
    "\n",
    "# remove\n",
    "from tqdm.notebook import tqdm\n",
    "\n",
    "# helpers\n",
    "sys.path.append(\"/workspaces/ProductionRecommender/prod-reco/src/prod_reco\")\n",
    "from commons.recommender_utils import RecommenderUtils"
   ]
  },
  {
   "cell_type": "code",
   "execution_count": 2,
   "id": "065fcab5",
   "metadata": {},
   "outputs": [
    {
     "name": "stdout",
     "output_type": "stream",
     "text": [
      "2022-03-25 16:49:22,531 - kedro.io.data_catalog - INFO - Loading data from `ratings` (CSVDataSet)...\n"
     ]
    },
    {
     "name": "stderr",
     "output_type": "stream",
     "text": [
      "/opt/conda/envs/dev/lib/python3.8/site-packages/pandas/util/_decorators.py:311: ParserWarning: Falling back to the 'python' engine because the 'c' engine does not support regex separators (separators > 1 char and different from '\\s+' are interpreted as regex); you can avoid this warning by specifying engine='python'.\n",
      "  return func(*args, **kwargs)\n"
     ]
    },
    {
     "name": "stdout",
     "output_type": "stream",
     "text": [
      "2022-03-25 16:49:29,262 - kedro.io.data_catalog - INFO - Loading data from `items` (CSVDataSet)...\n"
     ]
    }
   ],
   "source": [
    "df_ratings = catalog.load(\"ratings\")\n",
    "df_items = catalog.load(\"items\")"
   ]
  },
  {
   "cell_type": "code",
   "execution_count": 3,
   "id": "3cd99df1",
   "metadata": {},
   "outputs": [],
   "source": [
    "# PARAMETERS\n",
    "USER_ID = \"userId\"\n",
    "ITEM_ID = \"itemId\"\n",
    "RATING=\"rating\"\n",
    "\n",
    "item_min_bought = 8\n",
    "user_min_bought = 8"
   ]
  },
  {
   "cell_type": "markdown",
   "id": "86164e61",
   "metadata": {},
   "source": [
    "## Data Engineering - Process Ratings"
   ]
  },
  {
   "cell_type": "code",
   "execution_count": 4,
   "id": "db89bf87",
   "metadata": {},
   "outputs": [
    {
     "name": "stdout",
     "output_type": "stream",
     "text": [
      "Starting interactions info\n",
      "Number of rows: 7212\n",
      "Number of cols: 6432\n",
      "Sparsity: 0.460%\n",
      "Ending interactions info\n",
      "Number of rows: 5387\n",
      "Number of columns: 2620\n",
      "Sparsity: 1.384%\n",
      "Number of users: 5387\n",
      "Number of items: 2620\n",
      "Number of rows: (195359, 4)\n",
      "Sparsity: 0.013841563730609597\n"
     ]
    }
   ],
   "source": [
    "# ratings of 5 are 1, everything else is deleted\n",
    "df_ratings = df_ratings[df_ratings[RATING] > 4]\n",
    "# original ratings\n",
    "# df_ratings[RATING] = 1\n",
    "\n",
    "# create utils object\n",
    "utils = RecommenderUtils(user_id = USER_ID, item_id = ITEM_ID, rating=RATING)\n",
    "\n",
    "# threshold interactions\n",
    "df_txn = RecommenderUtils.threshold_interactions_df(df_ratings, USER_ID, ITEM_ID, user_min_bought, item_min_bought)\n",
    "num_ratings, sparsity = utils.print_ratings_shape(df_txn)\n",
    "\n",
    "# to sparse matrix\n",
    "interactions, rid_to_idx, idx_to_rid, cid_to_idx, idx_to_cid = RecommenderUtils.df_to_matrix(df_txn, USER_ID, ITEM_ID, interaction_var=RATING)\n",
    "\n",
    "num_users = interactions.shape[0]\n",
    "num_items = interactions.shape[1]"
   ]
  },
  {
   "cell_type": "code",
   "execution_count": 5,
   "id": "2bc34a51",
   "metadata": {},
   "outputs": [],
   "source": [
    "# reorder and filter df_items\n",
    "df_items = df_items.set_index(ITEM_ID).loc[cid_to_idx]\n",
    "\n",
    "# get metadata tags\n",
    "df_items_feats = df_items[\"tags\"]\n",
    "\n",
    "# get movie names\n",
    "df_item_names = df_items[\"movieName\"]\n",
    "idx_to_names = {cid_to_idx[k]:v for k,v in df_item_names.to_dict().items()}"
   ]
  },
  {
   "cell_type": "markdown",
   "id": "0298fb39",
   "metadata": {},
   "source": [
    "# Random Users"
   ]
  },
  {
   "cell_type": "code",
   "execution_count": 14,
   "id": "402a2624",
   "metadata": {},
   "outputs": [
    {
     "data": {
      "text/plain": [
       "[('Hate (Haine, La) (1995)', 5.0),\n",
       " ('Taxi Driver (1976)', 5.0),\n",
       " ('Belle de jour (1967)', 5.0),\n",
       " ('Crumb (1994)', 5.0),\n",
       " ('Living in Oblivion (1995)', 5.0),\n",
       " ('Heavenly Creatures (1994)', 5.0),\n",
       " ('Swimming with Sharks (1995)', 5.0),\n",
       " ('Wonderful, Horrible Life of Leni Riefenstahl, The (Macht der Bilder: Leni Riefenstahl, Die) (1993)',\n",
       "  5.0),\n",
       " ('Naked (1993)', 5.0),\n",
       " ('Short Cuts (1993)', 5.0),\n",
       " ('Welcome to the Dollhouse (1995)', 5.0),\n",
       " ('Fargo (1996)', 5.0),\n",
       " ('Trainspotting (1996)', 5.0),\n",
       " ('Godfather, The (1972)', 5.0),\n",
       " ('Casablanca (1942)', 5.0),\n",
       " ('Citizen Kane (1941)', 5.0),\n",
       " ('Bonnie and Clyde (1967)', 5.0),\n",
       " ('Reservoir Dogs (1992)', 5.0),\n",
       " ('Streetcar Named Desire, A (1951)', 5.0),\n",
       " (\"One Flew Over the Cuckoo's Nest (1975)\", 5.0),\n",
       " ('To Kill a Mockingbird (1962)', 5.0),\n",
       " ('Apocalypse Now (1979)', 5.0),\n",
       " ('Goodfellas (1990)', 5.0),\n",
       " ('Godfather: Part II, The (1974)', 5.0),\n",
       " ('Once Upon a Time in America (1984)', 5.0),\n",
       " ('Raging Bull (1980)', 5.0),\n",
       " ('Seventh Seal, The (Sjunde inseglet, Det) (1957)', 5.0),\n",
       " ('Rosencrantz and Guildenstern Are Dead (1990)', 5.0),\n",
       " (\"Miller's Crossing (1990)\", 5.0),\n",
       " ('Graduate, The (1967)', 5.0),\n",
       " ('Down by Law (1986)', 5.0),\n",
       " ('This Is Spinal Tap (1984)', 5.0),\n",
       " ('Killing Fields, The (1984)', 5.0),\n",
       " ('My Own Private Idaho (1991)', 5.0),\n",
       " ('Ice Storm, The (1997)', 5.0),\n",
       " (\"Buffalo '66 (a.k.a. Buffalo 66) (1998)\", 5.0),\n",
       " ('Midnight Cowboy (1969)', 5.0),\n",
       " ('Roger & Me (1989)', 5.0),\n",
       " ('Blue Velvet (1986)', 5.0),\n",
       " ('Say Anything... (1989)', 5.0),\n",
       " ('Dreamlife of Angels, The (La Vie rêvée des anges) (1998)', 5.0),\n",
       " ('400 Blows, The (Les Quatre cents coups) (1959)', 5.0),\n",
       " ('American Beauty (1999)', 5.0)]"
      ]
     },
     "execution_count": 14,
     "metadata": {},
     "output_type": "execute_result"
    }
   ],
   "source": [
    "user_id = 2241\n",
    "list_movies = df_txn[df_txn[USER_ID] == user_id][ITEM_ID].tolist()\n",
    "list_ratings = df_txn[df_txn[USER_ID] == user_id][RATING].tolist()\n",
    "[(idx_to_names[cid_to_idx[v]],r) for v,r in zip(list_movies, list_ratings)]"
   ]
  },
  {
   "cell_type": "code",
   "execution_count": 6,
   "id": "8cb346b8",
   "metadata": {},
   "outputs": [
    {
     "data": {
      "text/plain": [
       "286146    2241\n",
       "781431    5917\n",
       "456232    3468\n",
       "109806     836\n",
       "310729    2448\n",
       "494717    3784\n",
       "30174      226\n",
       "709679    5411\n",
       "743346    5669\n",
       "23320      190\n",
       "Name: userId, dtype: int64"
      ]
     },
     "execution_count": 6,
     "metadata": {},
     "output_type": "execute_result"
    }
   ],
   "source": [
    "df_txn[USER_ID].sample(10)"
   ]
  },
  {
   "cell_type": "code",
   "execution_count": 23,
   "id": "c948dcc2",
   "metadata": {},
   "outputs": [
    {
     "data": {
      "text/plain": [
       "[('Toy Story (1995)', 4.5),\n",
       " ('Apollo 13 (1995)', 4.5),\n",
       " ('Star Wars: Episode IV - A New Hope (a.k.a. Star Wars) (1977)', 5.0),\n",
       " ('Star Trek: Generations (1994)', 4.5),\n",
       " ('Jurassic Park (1993)', 4.5),\n",
       " ('Terminator 2: Judgment Day (1991)', 5.0),\n",
       " ('Monty Python and the Holy Grail (1975)', 4.5),\n",
       " ('Star Wars: Episode V - The Empire Strikes Back (1980)', 5.0),\n",
       " ('Princess Bride, The (1987)', 5.0),\n",
       " ('Raiders of the Lost Ark (Indiana Jones and the Raiders of the Lost Ark) (1981)',\n",
       "  4.5),\n",
       " ('Terminator, The (1984)', 4.5),\n",
       " ('Star Trek II: The Wrath of Khan (1982)', 4.5),\n",
       " ('Labyrinth (1986)', 5.0),\n",
       " ('Return to Oz (1985)', 4.5),\n",
       " ('Tron (1982)', 4.5),\n",
       " ('Willow (1988)', 4.5),\n",
       " ('Matrix, The (1999)', 5.0),\n",
       " ('Iron Giant, The (1999)', 5.0),\n",
       " ('Princess Mononoke (Mononoke-hime) (1997)', 5.0),\n",
       " ('Galaxy Quest (1999)', 4.5),\n",
       " ('X-Men (2000)', 5.0),\n",
       " ('Cast Away (2000)', 4.5),\n",
       " ('Shrek (2001)', 4.5),\n",
       " (\"Harry Potter and the Sorcerer's Stone (a.k.a. Harry Potter and the Philosopher's Stone) (2001)\",\n",
       "  5.0),\n",
       " ('Lord of the Rings: The Fellowship of the Ring, The (2001)', 5.0),\n",
       " ('Spirited Away (Sen to Chihiro no kamikakushi) (2001)', 5.0),\n",
       " ('Lord of the Rings: The Two Towers, The (2002)', 5.0),\n",
       " ('Last Unicorn, The (1982)', 4.5),\n",
       " ('Pirates of the Caribbean: The Curse of the Black Pearl (2003)', 5.0),\n",
       " ('Nausicaä of the Valley of the Winds (Kaze no tani no Naushika) (1984)',\n",
       "  4.5),\n",
       " ('Lord of the Rings: The Return of the King, The (2003)', 5.0),\n",
       " ('Harry Potter and the Prisoner of Azkaban (2004)', 5.0),\n",
       " ('Incredibles, The (2004)', 4.5),\n",
       " ('Batman Begins (2005)', 4.5),\n",
       " ('Serenity (2005)', 5.0),\n",
       " (\"Pirates of the Caribbean: Dead Man's Chest (2006)\", 4.5),\n",
       " ('Harry Potter and the Order of the Phoenix (2007)', 4.5),\n",
       " ('Dark Knight, The (2008)', 4.5)]"
      ]
     },
     "execution_count": 23,
     "metadata": {},
     "output_type": "execute_result"
    }
   ],
   "source": [
    "user_id = 190\n",
    "list_movies = df_txn[df_txn[USER_ID] == user_id][ITEM_ID].tolist()\n",
    "list_ratings = df_txn[df_txn[USER_ID] == user_id][RATING].tolist()\n",
    "[(idx_to_names[cid_to_idx[v]],r) for v,r in zip(list_movies, list_ratings)]"
   ]
  },
  {
   "cell_type": "code",
   "execution_count": 26,
   "id": "b88c150b",
   "metadata": {},
   "outputs": [
    {
     "data": {
      "text/plain": [
       "[(1, 1),\n",
       " (5, 1),\n",
       " (27, 1),\n",
       " (31, 1),\n",
       " (39, 1),\n",
       " (47, 1),\n",
       " (74, 1),\n",
       " (104, 1),\n",
       " (158, 1),\n",
       " (215, 1),\n",
       " (261, 1),\n",
       " (262, 1),\n",
       " (339, 1),\n",
       " (367, 1),\n",
       " (372, 1),\n",
       " (374, 1),\n",
       " (377, 1),\n",
       " (381, 1),\n",
       " (454, 1),\n",
       " (480, 1),\n",
       " (507, 1),\n",
       " (524, 1),\n",
       " (595, 1),\n",
       " (662, 1),\n",
       " (724, 1),\n",
       " (765, 1),\n",
       " (778, 1),\n",
       " (830, 1),\n",
       " (1013, 1),\n",
       " (1020, 1),\n",
       " (1022, 1),\n",
       " (1059, 1),\n",
       " (1092, 1),\n",
       " (1097, 1),\n",
       " (1196, 1),\n",
       " (1246, 1),\n",
       " (1249, 1),\n",
       " (1259, 1),\n",
       " (1359, 1),\n",
       " (1380, 1),\n",
       " (1466, 1),\n",
       " (1552, 1),\n",
       " (1569, 1),\n",
       " (1573, 1),\n",
       " (1625, 1),\n",
       " (1645, 1),\n",
       " (1658, 1),\n",
       " (1777, 1),\n",
       " (1821, 1),\n",
       " (1895, 1),\n",
       " (2059, 1),\n",
       " (2081, 1),\n",
       " (2082, 1),\n",
       " (2085, 1),\n",
       " (2125, 1),\n",
       " (2272, 1),\n",
       " (2294, 1),\n",
       " (2310, 1),\n",
       " (2324, 1),\n",
       " (2329, 1),\n",
       " (2485, 1),\n",
       " (2541, 1),\n",
       " (2563, 1),\n",
       " (2572, 1),\n",
       " (2580, 1),\n",
       " (2581, 1),\n",
       " (2605, 1),\n",
       " (2676, 1),\n",
       " (2694, 1),\n",
       " (2707, 1),\n",
       " (2724, 1),\n",
       " (2771, 1),\n",
       " (2797, 1),\n",
       " (2908, 1),\n",
       " (3046, 1),\n",
       " (3083, 1),\n",
       " (3114, 1),\n",
       " (3147, 1),\n",
       " (3155, 1),\n",
       " (3173, 1),\n",
       " (3249, 1),\n",
       " (3250, 1),\n",
       " (3285, 1),\n",
       " (3409, 1),\n",
       " (3882, 1),\n",
       " (3916, 1),\n",
       " (3948, 1),\n",
       " (3968, 1),\n",
       " (3980, 1),\n",
       " (4018, 1),\n",
       " (4022, 1),\n",
       " (4023, 1),\n",
       " (4025, 1),\n",
       " (4054, 1),\n",
       " (4069, 1),\n",
       " (4148, 1),\n",
       " (4239, 1),\n",
       " (4351, 1),\n",
       " (4447, 1),\n",
       " (4718, 1),\n",
       " (4886, 1),\n",
       " (4903, 1),\n",
       " (4963, 1),\n",
       " (5066, 1),\n",
       " (5225, 1),\n",
       " (5299, 1),\n",
       " (5620, 1),\n",
       " (5989, 1),\n",
       " (5992, 1),\n",
       " (6155, 1),\n",
       " (6287, 1),\n",
       " (7147, 1),\n",
       " (7149, 1),\n",
       " (7154, 1),\n",
       " (7293, 1),\n",
       " (7451, 1),\n",
       " (8638, 1),\n",
       " (8961, 1),\n",
       " (27808, 1),\n",
       " (27821, 1),\n",
       " (30707, 1),\n",
       " (31685, 1),\n",
       " (37729, 1),\n",
       " (45722, 1),\n",
       " (53125, 1)]"
      ]
     },
     "execution_count": 26,
     "metadata": {},
     "output_type": "execute_result"
    }
   ],
   "source": [
    "[(v, r) for v,r in zip(list_movies, list_ratings)]"
   ]
  }
 ],
 "metadata": {
  "kernelspec": {
   "display_name": "prodreco",
   "language": "python",
   "name": "python3"
  },
  "language_info": {
   "codemirror_mode": {
    "name": "ipython",
    "version": 3
   },
   "file_extension": ".py",
   "mimetype": "text/x-python",
   "name": "python",
   "nbconvert_exporter": "python",
   "pygments_lexer": "ipython3",
   "version": "3.8.12"
  }
 },
 "nbformat": 4,
 "nbformat_minor": 5
}
